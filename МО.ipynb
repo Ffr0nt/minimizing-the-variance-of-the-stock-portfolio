{
  "nbformat": 4,
  "nbformat_minor": 0,
  "metadata": {
    "colab": {
      "provenance": [],
      "collapsed_sections": []
    },
    "kernelspec": {
      "name": "python3",
      "display_name": "Python 3"
    },
    "language_info": {
      "name": "python"
    }
  },
  "cells": [
    {
      "cell_type": "code",
      "source": [
        "import pandas as pd \n",
        "import numpy as np"
      ],
      "metadata": {
        "id": "cqUetMSL6eGg"
      },
      "execution_count": 1,
      "outputs": []
    },
    {
      "cell_type": "code",
      "source": [
        "from google.colab import drive\n",
        "drive.mount('/content/drive')"
      ],
      "metadata": {
        "colab": {
          "base_uri": "https://localhost:8080/"
        },
        "id": "Xf7CTDy4opUF",
        "outputId": "387dd4e4-b707-43a7-e26e-33a17c68db1b"
      },
      "execution_count": 2,
      "outputs": [
        {
          "output_type": "stream",
          "name": "stdout",
          "text": [
            "Mounted at /content/drive\n"
          ]
        }
      ]
    },
    {
      "cell_type": "code",
      "source": [
        "df_2 = pd.read_csv('companies.csv')"
      ],
      "metadata": {
        "id": "rQpYwlCeBa7k"
      },
      "execution_count": null,
      "outputs": []
    },
    {
      "cell_type": "code",
      "source": [
        "# Path_1 = \"/content/Cresco Labs.csv\"\n",
        "# Path_2 = \"/content/KFC Ltd (3420).csv\"\n",
        "# Path_3 = \"/content/Белуга Групп ПАО (BELU).csv\"\n",
        "# a = pd.read_csv(Path_1)\n",
        "# b = pd.read_csv(Path_2)\n",
        "# c = pd.read_csv(Path_3)\n",
        "# a_new = a[:200]['Цена'] \n",
        "# b_new = b[:200]['Цена'] \n",
        "# c_new = c[:200]['Цена'] \n",
        "# data_f = pd.DataFrame({'Cresco Labs' :a_new, 'KFC Ltd (3420)':b_new, 'Белуга Групп ПАО (BELU)':c_new})\n",
        "# data_f.to_csv('companies.csv')\n",
        "# new_df = pd.read_csv('companies.csv')\n",
        "# df = pd.read_csv('companies.csv').drop('Unnamed: 0',axis = 1)\n",
        "# s = []\n",
        "# for el  in df['Cresco Labs']:\n",
        "#   a,b = el.split(',')\n",
        "#   s.append(int(a)+int(b)/(10**len(b)))\n",
        "# s_2 = []\n",
        "# [s_2.append(float(s_.split(',')[0])) for s_ in df['KFC Ltd (3420)']]\n",
        "# df_2 = pd.DataFrame({'Cresco Labs' :s, 'KFC Ltd (3420)':s_2, 'Белуга Групп ПАО (BELU)':s_3})\n",
        "           "
      ],
      "metadata": {
        "id": "qUROQZJ96IRb"
      },
      "execution_count": 3,
      "outputs": []
    },
    {
      "cell_type": "code",
      "source": [
        "# to download you have to apply file companies_f.csv to project\n",
        "df_2 = pd.read_csv('/content/companies_f.csv')\n",
        "# df_2 = pd.read_csv('/content/drive/MyDrive/companies_f.csv')\n",
        "a = df_2['Cresco Labs']\n",
        "b = df_2['KFC Ltd (3420)']\n",
        "c = df_2['Белуга Групп ПАО (BELU)']"
      ],
      "metadata": {
        "id": "_Hh6hrHS-09H"
      },
      "execution_count": 4,
      "outputs": []
    },
    {
      "cell_type": "code",
      "source": [
        "r_1 = a[:-1].div(a[1:].iloc[0]) -1\n",
        "r_2 = b[:-1].div(b[1:].iloc[0]) -1\n",
        "r_3 = c[:-1].div(c[1:].iloc[0]) -1"
      ],
      "metadata": {
        "id": "4fD5OdmOBp3q"
      },
      "execution_count": 5,
      "outputs": []
    },
    {
      "cell_type": "code",
      "source": [
        "rm_1 = r_1.mean()\n",
        "rm_2 = r_2.mean()\n",
        "rm_3 = r_3.mean()\n",
        "print(\"Expectation of:\")\n",
        "print(f\"Cresco Labs = {rm_1}\")\n",
        "print(f\"KFC Ltd (3420) = {rm_2}\")\n",
        "print(f\"Белуга Групп ПАО (BELU) = {rm_3}\")"
      ],
      "metadata": {
        "colab": {
          "base_uri": "https://localhost:8080/"
        },
        "id": "39p48CC374dz",
        "outputId": "1de90657-2b6c-4f38-a61c-9c980d894073"
      },
      "execution_count": 6,
      "outputs": [
        {
          "output_type": "stream",
          "name": "stdout",
          "text": [
            "Expectation of:\n",
            "Cresco Labs = 0.3029299630402595\n",
            "KFC Ltd (3420) = 0.12711903890312487\n",
            "Белуга Групп ПАО (BELU) = -0.03462631240548707\n"
          ]
        }
      ]
    },
    {
      "cell_type": "code",
      "source": [
        "var_1 = np.var(r_1)\n",
        "var_2 = np.var(r_2)\n",
        "var_3 = np.var(r_3)\n",
        "\n",
        "print(\"Variance of:\")\n",
        "print(f\"Cresco Labs = {var_1}\")\n",
        "print(f\"KFC Ltd (3420) = {var_2}\")\n",
        "print(f\"Белуга Групп ПАО (BELU) = {var_3}\")"
      ],
      "metadata": {
        "colab": {
          "base_uri": "https://localhost:8080/"
        },
        "id": "UAne9dFv9fVg",
        "outputId": "f7d7ed9a-3950-4e96-dfc3-7e3451e06afd"
      },
      "execution_count": 7,
      "outputs": [
        {
          "output_type": "stream",
          "name": "stdout",
          "text": [
            "Variance of:\n",
            "Cresco Labs = 0.16110291188242726\n",
            "KFC Ltd (3420) = 0.003419614403510552\n",
            "Белуга Групп ПАО (BELU) = 0.01621767471659818\n"
          ]
        }
      ]
    },
    {
      "cell_type": "code",
      "source": [
        "cov_12 = np.cov(r_1,r_2)\n",
        "cov_23 = np.cov(r_2,r_3)\n",
        "cov_13 = np.cov(r_1,r_3)\n",
        "\n",
        "print(\"Covariance matrices of:\")\n",
        "print(\"Cresco Labs and KFC Ltd (3420)\")\n",
        "print(cov_12)\n",
        "print(\"KFC Ltd (3420) and Белуга Групп ПАО (BELU)\")\n",
        "print(cov_23)\n",
        "print(\"Cresco Labs and Белуга Групп ПАО (BELU)\")\n",
        "print(cov_13)"
      ],
      "metadata": {
        "colab": {
          "base_uri": "https://localhost:8080/"
        },
        "id": "M19Hqm5s-so2",
        "outputId": "eb142650-4b3f-4219-f7d5-f7d2c3281204"
      },
      "execution_count": 8,
      "outputs": [
        {
          "output_type": "stream",
          "name": "stdout",
          "text": [
            "Covariance matrices of:\n",
            "Cresco Labs and KFC Ltd (3420)\n",
            "[[0.16191656 0.01781588]\n",
            " [0.01781588 0.00343689]]\n",
            "KFC Ltd (3420) and Белуга Групп ПАО (BELU)\n",
            "[[0.00343689 0.00179903]\n",
            " [0.00179903 0.01629958]]\n",
            "Cresco Labs and Белуга Групп ПАО (BELU)\n",
            "[[0.16191656 0.03256199]\n",
            " [0.03256199 0.01629958]]\n"
          ]
        }
      ]
    },
    {
      "cell_type": "code",
      "source": [
        "m = 0.1\n",
        "print(f\"m_* have to be beetween {min(rm_1, rm_2, rm_3)} and {max(rm_1, rm_2, rm_3)}\")\n",
        "print(f\"Let it be {m}\")"
      ],
      "metadata": {
        "colab": {
          "base_uri": "https://localhost:8080/"
        },
        "id": "5OxOmkzyLwtq",
        "outputId": "036e8458-f418-42c7-e1e7-2b04ab365361"
      },
      "execution_count": 9,
      "outputs": [
        {
          "output_type": "stream",
          "name": "stdout",
          "text": [
            "m_* have to be beetween -0.03462631240548707 and 0.3029299630402595\n",
            "Let it be 0.1\n"
          ]
        }
      ]
    },
    {
      "cell_type": "markdown",
      "source": [
        "#Постановка задачи\n",
        "\n",
        "====================================\n",
        "\n",
        "<Cx,x> -> min\n",
        "\n",
        "x_1 + x_2 + x_3 = 1\n",
        "\n",
        "-x_1 < 0 \n",
        "\n",
        "-x_2 < 0 \n",
        "\n",
        "-x_3 < 0\n",
        "\n",
        "μ_1 * x_1 + μ_2 * x_2 + μ_3 * x_3 = m_*\n",
        "\n",
        "====================================\n",
        "\n",
        "\n",
        "\n",
        "λ_0 <Cx,x> + λ_1(x_1 + x_2 + x_3 - 1) - λ_2 (x_1) - λ_3 (x_2) - λ_4 (x_3) +  λ_5 (μ_1 * x_1 + μ_2 * x_2 + μ_3 * x_3 - m_*) -> min\n",
        "\n",
        "-λ_2* x_1 = 0 \n",
        "\n",
        "-λ_3* x_2 = 0 \n",
        "\n",
        "-λ_4* x_3 = 0\n",
        "\n",
        "x_1 + x_2 + x_3 = 1\n",
        "\n",
        "μ_1 * x_1 + μ_2 * x_2 + μ_3 * x_3 = m_*\n",
        "\n"
      ],
      "metadata": {
        "id": "CvoLKn0MWHpH"
      }
    },
    {
      "cell_type": "code",
      "source": [
        "# constants\n",
        "m = 0.1\n",
        "D_1, D_2, D_3 = 0.16191656, 0.00343689, 0.01629958\n",
        "m_1, m_2, m_3 = rm_1, rm_2, rm_3"
      ],
      "metadata": {
        "id": "PYfem1aQNU4Y"
      },
      "execution_count": 10,
      "outputs": []
    },
    {
      "cell_type": "code",
      "source": [
        "import sympy as sym \n",
        "from sympy import *\n",
        "# parts x_1, x_2, x_3 have to be nonnegative because of problem condition \n",
        "# (we can not get loans and reinwest money)\n",
        "x_1, x_2, x_3 = sym.symbols('x_1 x_2 x_3', float = True, nonnegative=True)"
      ],
      "metadata": {
        "id": "7pIVG74mcuSD"
      },
      "execution_count": 11,
      "outputs": []
    },
    {
      "cell_type": "code",
      "source": [
        "# main_equality that describes optimized function\n",
        "main_equality = D_1*x_1**2+D_2*x_2**2+D_3*x_3**2 \\\n",
        "+2*cov_12[0][1]*x_1*x_2 + 2*cov_23[0][1]*x_2*x_3+ 2*cov_13[0][1]*x_1*x_3"
      ],
      "metadata": {
        "id": "0dR7YN5Qa_mM"
      },
      "execution_count": 12,
      "outputs": []
    },
    {
      "cell_type": "code",
      "source": [
        "# definition of profit\n",
        "profit = m_1*x_1 + m_2*x_2 + m_3*x_3"
      ],
      "metadata": {
        "id": "SAynQPKOcskl"
      },
      "execution_count": 13,
      "outputs": []
    },
    {
      "cell_type": "code",
      "source": [
        "profit_equality = profit - m"
      ],
      "metadata": {
        "id": "3_oDp18GdRJE"
      },
      "execution_count": 14,
      "outputs": []
    },
    {
      "cell_type": "code",
      "source": [
        "# parts in sum gives us 1\n",
        "x_equality = x_1 + x_2 + x_3 - 1"
      ],
      "metadata": {
        "id": "Oukp5lPbeKPV"
      },
      "execution_count": 15,
      "outputs": []
    },
    {
      "cell_type": "code",
      "source": [
        "lambda_1, lambda_5 = sym.symbols('lambda_1 lambda_5', float = True)\n",
        "# nonnegative because of nonegative condition of Convex optimization problem\n",
        "lambda_2, lambda_3, lambda_4 = sym.symbols('lambda_2 lambda_3 lambda_4', float = True, nonnegative=True)"
      ],
      "metadata": {
        "id": "Kb1nTtR0eWan"
      },
      "execution_count": 16,
      "outputs": []
    },
    {
      "cell_type": "code",
      "source": [
        "# conditions of complementary non-rigidity\n",
        "lambda_2_equality = lambda_2 * x_1\n",
        "lambda_3_equality = lambda_3 * x_2\n",
        "lambda_4_equality = lambda_4 * x_3"
      ],
      "metadata": {
        "id": "fyDCBU3HeuLj"
      },
      "execution_count": 17,
      "outputs": []
    },
    {
      "cell_type": "code",
      "source": [
        "# Lagrangian\n",
        "lag_func = main_equality + lambda_1 * profit_equality - lambda_2_equality - lambda_3_equality \\\n",
        "- lambda_4_equality + lambda_5 * x_equality\n",
        "print(lag_func)"
      ],
      "metadata": {
        "colab": {
          "base_uri": "https://localhost:8080/"
        },
        "id": "36hL0ve7e73k",
        "outputId": "f306027b-6857-45a0-d711-8d13757a8673"
      },
      "execution_count": 18,
      "outputs": [
        {
          "output_type": "stream",
          "name": "stdout",
          "text": [
            "lambda_1*(0.302929963040259*x_1 + 0.127119038903125*x_2 - 0.0346263124054871*x_3 - 0.1) - lambda_2*x_1 - lambda_3*x_2 - lambda_4*x_3 + lambda_5*(x_1 + x_2 + x_3 - 1) + 0.16191656*x_1**2 + 0.0356317687118524*x_1*x_2 + 0.0651239742887462*x_1*x_3 + 0.00343689*x_2**2 + 0.00359806892583914*x_2*x_3 + 0.01629958*x_3**2\n"
          ]
        }
      ]
    },
    {
      "cell_type": "code",
      "source": [
        "# Lagrangian derivatives == 0\n",
        "lag_grad_1 = lag_func.diff(x_1)\n",
        "print(lag_grad_1)\n",
        "lag_grad_2 = lag_func.diff(x_2)\n",
        "print(lag_grad_2)\n",
        "lag_grad_3 = lag_func.diff(x_3)\n",
        "print(lag_grad_3)"
      ],
      "metadata": {
        "colab": {
          "base_uri": "https://localhost:8080/"
        },
        "id": "t1qWMCLLf5Hs",
        "outputId": "3e009090-7766-4c97-a3bf-3cb62c2ef3f6"
      },
      "execution_count": 19,
      "outputs": [
        {
          "output_type": "stream",
          "name": "stdout",
          "text": [
            "0.302929963040259*lambda_1 - lambda_2 + lambda_5 + 0.32383312*x_1 + 0.0356317687118524*x_2 + 0.0651239742887462*x_3\n",
            "0.127119038903125*lambda_1 - lambda_3 + lambda_5 + 0.0356317687118524*x_1 + 0.00687378*x_2 + 0.00359806892583914*x_3\n",
            "-0.0346263124054871*lambda_1 - lambda_4 + lambda_5 + 0.0651239742887462*x_1 + 0.00359806892583914*x_2 + 0.03259916*x_3\n"
          ]
        }
      ]
    },
    {
      "cell_type": "code",
      "source": [
        "# Solve system\n",
        "answer = sym.solve((lag_grad_1, lag_grad_2, lag_grad_3, lambda_2_equality,\\\n",
        "                    lambda_3_equality, lambda_4_equality, profit_equality, x_equality),\\\n",
        "                    (x_1, x_2, x_3, lambda_1, lambda_2, lambda_3, lambda_4, lambda_5), dict = True)\n",
        "answer"
      ],
      "metadata": {
        "colab": {
          "base_uri": "https://localhost:8080/"
        },
        "id": "AUpCPrV7glVg",
        "outputId": "b200804f-9805-4734-b7f4-61d26b6e4014"
      },
      "execution_count": 20,
      "outputs": [
        {
          "output_type": "execute_result",
          "data": {
            "text/plain": [
              "[{x_1: 0.0,\n",
              "  x_2: 0.832334971708822,\n",
              "  x_3: 0.167665028291178,\n",
              "  lambda_1: 0.0132058192331648,\n",
              "  lambda_2: 0.0365737496675651,\n",
              "  lambda_3: 0.0,\n",
              "  lambda_4: 0.0,\n",
              "  lambda_5: -0.00800326885892540}]"
            ]
          },
          "metadata": {},
          "execution_count": 20
        }
      ]
    },
    {
      "cell_type": "code",
      "source": [
        "print(f\"Thus, it turned out, that optimal distribution of shares \\\n",
        "taking into account the specified conditions is following one: \\\n",
        "  \\n Cresco Labs: {answer[0][x_1]} \\\n",
        "  \\n KFC Ltd(3420){answer[0][x_2]} \\\n",
        "  \\n Белуга Групп ПАО (BELU): {answer[0][x_3]}\")"
      ],
      "metadata": {
        "colab": {
          "base_uri": "https://localhost:8080/"
        },
        "id": "K51u_9L9hsph",
        "outputId": "e45164e5-4ee9-434e-a531-c778f6cbc946"
      },
      "execution_count": 21,
      "outputs": [
        {
          "output_type": "stream",
          "name": "stdout",
          "text": [
            "Thus, it turned out, that optimal distribution of shares taking into account the specified conditions is following one:   \n",
            " Cresco Labs: 0.0   \n",
            " KFC Ltd(3420)0.832334971708822   \n",
            " Белуга Групп ПАО (BELU): 0.167665028291178\n"
          ]
        }
      ]
    },
    {
      "cell_type": "code",
      "source": [],
      "metadata": {
        "id": "2_CLTqTTk1bl"
      },
      "execution_count": null,
      "outputs": []
    }
  ]
}